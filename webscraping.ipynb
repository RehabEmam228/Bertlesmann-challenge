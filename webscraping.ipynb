{
  "nbformat": 4,
  "nbformat_minor": 0,
  "metadata": {
    "colab": {
      "name": "webscraping",
      "provenance": [],
      "authorship_tag": "ABX9TyMdbotAXlE6PgdVYNB8jT8s",
      "include_colab_link": true
    },
    "kernelspec": {
      "name": "python3",
      "display_name": "Python 3"
    }
  },
  "cells": [
    {
      "cell_type": "markdown",
      "metadata": {
        "id": "view-in-github",
        "colab_type": "text"
      },
      "source": [
        "<a href=\"https://colab.research.google.com/github/RehabEmam228/Bertlesmann-challenge/blob/master/webscraping.ipynb\" target=\"_parent\"><img src=\"https://colab.research.google.com/assets/colab-badge.svg\" alt=\"Open In Colab\"/></a>"
      ]
    },
    {
      "cell_type": "code",
      "metadata": {
        "id": "j9IQwqQ-wDoD",
        "colab_type": "code",
        "outputId": "9802e596-4a9e-4540-b217-d5b33d9fd38f",
        "colab": {
          "base_uri": "https://localhost:8080/",
          "height": 67
        }
      },
      "source": [
        "import nltk\n",
        "import urllib\n",
        "import bs4 as bs\n",
        "import pandas as pd\n",
        "import re\n",
        "from nltk.corpus import stopwords\n",
        "# stopwords contain filler words as (so, is, I, and)\n",
        "nltk.download('stopwords')"
      ],
      "execution_count": 10,
      "outputs": [
        {
          "output_type": "stream",
          "text": [
            "[nltk_data] Downloading package stopwords to /root/nltk_data...\n",
            "[nltk_data]   Package stopwords is already up-to-date!\n"
          ],
          "name": "stdout"
        },
        {
          "output_type": "execute_result",
          "data": {
            "text/plain": [
              "True"
            ]
          },
          "metadata": {
            "tags": []
          },
          "execution_count": 10
        }
      ]
    },
    {
      "cell_type": "code",
      "metadata": {
        "id": "qfFMRNfHwpFT",
        "colab_type": "code",
        "colab": {}
      },
      "source": [
        "source = urllib.request.urlopen('https://en.wikipedia.org/wiki/Space').read()\n",
        "soup = bs.BeautifulSoup(source, 'lxml')"
      ],
      "execution_count": 0,
      "outputs": []
    },
    {
      "cell_type": "markdown",
      "metadata": {
        "id": "rfSZk2kY2rgT",
        "colab_type": "text"
      },
      "source": [
        "Go to the url, right click, press inspect, use the little arrow on top left of\n",
        "the inspect page\n",
        "\n",
        "Hover on the part to scrap, then find its tag, here I used tr for table, also I can use P for paragraph"
      ]
    },
    {
      "cell_type": "code",
      "metadata": {
        "id": "GR26i0Usx1rE",
        "colab_type": "code",
        "colab": {}
      },
      "source": [
        "text = \"\"\n",
        "for paragraph in soup.find_all('tr'):\n",
        "  text += paragraph.text"
      ],
      "execution_count": 0,
      "outputs": []
    },
    {
      "cell_type": "code",
      "metadata": {
        "id": "M3gcS6Z7yFvj",
        "colab_type": "code",
        "colab": {}
      },
      "source": [
        "#use regular expressions to filter out unnecessary content\n",
        "#remove digits\n",
        "text = re.sub(r'\\[[0-9]*\\]', ' ', text)\n",
        "#remove spaces\n",
        "text = re.sub(r'\\s+', ' ', text)\n",
        "text = text.lower()\n",
        "text = re.sub(r'\\d', ' ', text)"
      ],
      "execution_count": 0,
      "outputs": []
    },
    {
      "cell_type": "code",
      "metadata": {
        "id": "AHZyJEy_yrJr",
        "colab_type": "code",
        "outputId": "d5088f06-0708-477d-e6a9-be83db3318f8",
        "colab": {
          "base_uri": "https://localhost:8080/",
          "height": 50
        }
      },
      "source": [
        "import nltk\n",
        "nltk.download('punkt')\n",
        "sentences = nltk.sent_tokenize(text)"
      ],
      "execution_count": 14,
      "outputs": [
        {
          "output_type": "stream",
          "text": [
            "[nltk_data] Downloading package punkt to /root/nltk_data...\n",
            "[nltk_data]   Package punkt is already up-to-date!\n"
          ],
          "name": "stdout"
        }
      ]
    },
    {
      "cell_type": "code",
      "metadata": {
        "id": "k2Qv21nt1V4v",
        "colab_type": "code",
        "colab": {
          "base_uri": "https://localhost:8080/",
          "height": 54
        },
        "outputId": "5c72304b-ee0f-4a34-8a3b-96d190ca60de"
      },
      "source": [
        "sentences"
      ],
      "execution_count": 15,
      "outputs": [
        {
          "output_type": "execute_result",
          "data": {
            "text/plain": [
              "[\" type of geometry number of parallels sum of angles in a triangle ratio of circumference to diameter of circle measure of curvature hyperbolic infinite <    ° > π <   euclidean      ° π   elliptical   >    ° < π >   part of a series of articles aboutclassical mechanics f → = m a → {\\\\displaystyle {\\\\vec {f}}=m{\\\\vec {a}}} second law of motion history timeline branches applied celestial continuum dynamics kinematics kinetics statics statistical fundamentals acceleration angular momentum couple d'alembert's principle energy kinetic potential force frame of reference inertial frame of reference impulse inertia / moment of inertia mass mechanical power mechanical work moment momentum space speed time torque velocity virtual work formulations newton's laws of motion analytical mechanics lagrangian mechanicshamiltonian mechanicsrouthian mechanicshamilton–jacobi equationappell's equation of motionkoopman–von neumann mechanics core topics damping (ratio) displacement equations of motion euler's laws of motion fictitious force friction harmonic oscillator inertial / non-inertial reference frame mechanics of planar particle motion motion (linear) newton's law of universal gravitation newton's laws of motion relative velocity rigid body dynamics euler's equations simple harmonic motion vibration rotation circular motion rotating reference frame centripetal force centrifugal force reactive coriolis force pendulum tangential speed rotational speed angular acceleration / displacement / frequency / velocity scientists galileo huygens newton kepler horrocks halley euler d'alembert clairaut lagrange laplace hamilton poisson daniel bernoulli johann bernoulli cauchy categories ► classical mechanics vtevteelements of natureuniverse space time energy matter particles chemical elements change earth earth science history (geological) structure geology plate tectonics oceans gaia hypothesis future weather meteorology atmosphere (earth) climate clouds rain snow sunlight tides wind tornado tropical cyclone natural environment ecology ecosystem field radiation wilderness wildfires life origin (abiogenesis) evolutionary history biosphere hierarchy biology (astrobiology) biodiversity organism eukaryota flora plants fauna animals fungi protista prokaryotes archaea bacteria viruses origin (abiogenesis) evolutionary history biosphere hierarchy biology (astrobiology) biodiversity organism eukaryota flora plants fauna animals fungi protista prokaryotes archaea bacteria viruses category authority control ndl:\"]"
            ]
          },
          "metadata": {
            "tags": []
          },
          "execution_count": 15
        }
      ]
    },
    {
      "cell_type": "code",
      "metadata": {
        "id": "Ng4M8Cpu2KU6",
        "colab_type": "code",
        "colab": {
          "base_uri": "https://localhost:8080/",
          "height": 50
        },
        "outputId": "1698084c-24a5-4369-aff4-6459dedf5925"
      },
      "source": [
        "print(pd.DataFrame(sentences))"
      ],
      "execution_count": 16,
      "outputs": [
        {
          "output_type": "stream",
          "text": [
            "                                                   0\n",
            "0   type of geometry number of parallels sum of a...\n"
          ],
          "name": "stdout"
        }
      ]
    }
  ]
}