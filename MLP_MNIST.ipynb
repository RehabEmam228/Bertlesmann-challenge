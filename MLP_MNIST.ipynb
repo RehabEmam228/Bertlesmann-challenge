{
  "nbformat": 4,
  "nbformat_minor": 0,
  "metadata": {
    "colab": {
      "name": "MLP_MNIST.ipynb",
      "provenance": [],
      "authorship_tag": "ABX9TyOJ+5s9FRKOFDEI6K3ssL/O",
      "include_colab_link": true
    },
    "kernelspec": {
      "name": "python3",
      "display_name": "Python 3"
    }
  },
  "cells": [
    {
      "cell_type": "markdown",
      "metadata": {
        "id": "view-in-github",
        "colab_type": "text"
      },
      "source": [
        "<a href=\"https://colab.research.google.com/github/RehabEmam228/Bertlesmann-challenge/blob/master/MLP_MNIST.ipynb\" target=\"_parent\"><img src=\"https://colab.research.google.com/assets/colab-badge.svg\" alt=\"Open In Colab\"/></a>"
      ]
    },
    {
      "cell_type": "code",
      "metadata": {
        "id": "SPmum-Z_c8UV",
        "colab_type": "code",
        "colab": {}
      },
      "source": [
        "import torch\n",
        "from torch import nn, optim\n",
        "from torchvision import datasets, transforms\n",
        "import numpy as np"
      ],
      "execution_count": 0,
      "outputs": []
    },
    {
      "cell_type": "code",
      "metadata": {
        "id": "2g9-PPsldtOz",
        "colab_type": "code",
        "colab": {}
      },
      "source": [
        "valid_size=0.2\n",
        "num_workers=0\n",
        "\n",
        "transform = transforms.ToTensor()\n",
        "train_set = datasets.MNIST(root='data', download=True, train=True, transform=transform)\n",
        "test_set =  datasets.MNIST(root='data', download=True, train=False, transform=transform)\n",
        "\n",
        "# obtain training indices that will be used for validation\n",
        "num_train = len(train_set)\n",
        "indices = list(range(num_train))\n",
        "np.random.shuffle(indices)\n",
        "split = int(np.floor(valid_size * num_train))\n",
        "train_idx, valid_idx = indices[split:], indices[:split]\n",
        "\n",
        "# define samplers for obtaining training and validation batches\n",
        "train_sampler = torch.utils.data.sampler.SubsetRandomSampler(train_idx)\n",
        "valid_sampler = torch.utils.data.sampler.SubsetRandomSampler(valid_idx)\n",
        "\n",
        "trainloader = torch.utils.data.DataLoader(train_set, batch_size=20, sampler=train_sampler, num_workers=num_workers)\n",
        "testloader = torch.utils.data.DataLoader(test_set, batch_size=20, shuffle=True, num_workers=num_workers)\n",
        "validloader = torch.utils.data.DataLoader(train_set, batch_size=20, sampler=valid_sampler, num_workers=num_workers)"
      ],
      "execution_count": 0,
      "outputs": []
    },
    {
      "cell_type": "markdown",
      "metadata": {
        "id": "5ncBWGB3kgnI",
        "colab_type": "text"
      },
      "source": [
        "#Visualize data"
      ]
    },
    {
      "cell_type": "code",
      "metadata": {
        "id": "H11RDU5_kgFq",
        "colab_type": "code",
        "colab": {
          "base_uri": "https://localhost:8080/",
          "height": 268
        },
        "outputId": "2fb8300a-1245-41e7-d46a-dbbbec997219"
      },
      "source": [
        "%matplotlib inline\n",
        "import matplotlib.pyplot as plt\n",
        "\n",
        "images, labels = next(iter(trainloader))\n",
        "# plot the images in the batch, along with the corresponding labels\n",
        "fig = plt.figure(figsize=(25, 4))\n",
        "for idx in np.arange(20):\n",
        "    ax = fig.add_subplot(2, 20/2, idx+1, xticks=[], yticks=[])\n",
        "    ax.imshow(np.squeeze(images[idx]), cmap='gray')\n",
        "    # print out the correct label for each image\n",
        "    # .item() gets the value contained in a Tensor\n",
        "    ax.set_title(str(labels[idx].item()))"
      ],
      "execution_count": 11,
      "outputs": [
        {
          "output_type": "display_data",
          "data": {
            "image/png": "[encoded data removed]",
            "text/plain": [
              "<Figure size 1800x288 with 20 Axes>"
            ]
          },
          "metadata": {
            "tags": []
          }
        }
      ]
    },
    {
      "cell_type": "code",
      "metadata": {
        "id": "iDXlBtlMdI1p",
        "colab_type": "code",
        "colab": {
          "base_uri": "https://localhost:8080/",
          "height": 118
        },
        "outputId": "df9287d0-e4f1-4240-e7a8-e844bd30c2c9"
      },
      "source": [
        "class Net(nn.Module):\n",
        "  def __init__(self):\n",
        "    super(Net, self).__init__()\n",
        "    hidden_1 = 512\n",
        "    hidden_2 = 512\n",
        "    self.fc1 = nn.Linear(784, hidden_1)\n",
        "    self.fc2 = nn.Linear(hidden_1, hidden_2)\n",
        "    self.fc3 = nn.Linear(hidden_2, 10)\n",
        "    self.dropout = nn.Dropout(0.2)\n",
        "  def forward(self, x):\n",
        "    x = x.view(-1, 784)\n",
        "    x = nn.ReLU(self.fc1(x))\n",
        "    x = self.dropout(x)\n",
        "    x = nn.ReLU(self.fc2(x))\n",
        "    x = self.dropout(x)\n",
        "    x =self.fc3(x)\n",
        "    return x\n",
        "\n",
        "model = Net()\n",
        "model   "
      ],
      "execution_count": 4,
      "outputs": [
        {
          "output_type": "execute_result",
          "data": {
            "text/plain": [
              "Net(\n",
              "  (fc1): Linear(in_features=784, out_features=512, bias=True)\n",
              "  (fc2): Linear(in_features=512, out_features=512, bias=True)\n",
              "  (fc3): Linear(in_features=512, out_features=10, bias=True)\n",
              "  (dropout): Dropout(p=0.2, inplace=False)\n",
              ")"
            ]
          },
          "metadata": {
            "tags": []
          },
          "execution_count": 4
        }
      ]
    },
    {
      "cell_type": "code",
      "metadata": {
        "id": "eJ0AHgFSkRdG",
        "colab_type": "code",
        "colab": {}
      },
      "source": [
        "criterion = nn.CrossEntropyLoss(x)\n",
        "optimizer = torch.optim.SGd(model.parameters(), lr=0.01)"
      ],
      "execution_count": 0,
      "outputs": []
    },
    {
      "cell_type": "code",
      "metadata": {
        "id": "na385_mXkrrM",
        "colab_type": "code",
        "colab": {}
      },
      "source": [
        "epochs = 50\n"
      ],
      "execution_count": 0,
      "outputs": []
    }
  ]
}