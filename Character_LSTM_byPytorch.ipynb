{
  "nbformat": 4,
  "nbformat_minor": 0,
  "metadata": {
    "colab": {
      "name": "Character_LSTM_byPytorch.ipynb",
      "provenance": [],
      "mount_file_id": "11KeeKHocXNAY3YXEwiZfI7b5nhCAqOgD",
      "authorship_tag": "ABX9TyNxkeRQhOPH3Hsj6MRarm8R",
      "include_colab_link": true
    },
    "kernelspec": {
      "name": "python3",
      "display_name": "Python 3"
    },
    "accelerator": "GPU"
  },
  "cells": [
    {
      "cell_type": "markdown",
      "metadata": {
        "id": "view-in-github",
        "colab_type": "text"
      },
      "source": [
        "<a href=\"https://colab.research.google.com/github/RehabEmam228/Bertlesmann-challenge/blob/master/Character_LSTM_byPytorch.ipynb\" target=\"_parent\"><img src=\"https://colab.research.google.com/assets/colab-badge.svg\" alt=\"Open In Colab\"/></a>"
      ]
    },
    {
      "cell_type": "code",
      "metadata": {
        "id": "601uKGAOWn_V",
        "colab_type": "code",
        "colab": {}
      },
      "source": [
        "import numpy as np\n",
        "import torch\n",
        "from torch import nn\n",
        "import torch.nn.functional as F"
      ],
      "execution_count": 0,
      "outputs": []
    },
    {
      "cell_type": "code",
      "metadata": {
        "id": "_LyC0SXJxrxA",
        "colab_type": "code",
        "colab": {}
      },
      "source": [
        "with open('/content/drive/My Drive/anna.txt', 'r') as f:\n",
        "  text = f.read()"
      ],
      "execution_count": 0,
      "outputs": []
    },
    {
      "cell_type": "code",
      "metadata": {
        "id": "XIT3SLmJx1Hu",
        "colab_type": "code",
        "colab": {
          "base_uri": "https://localhost:8080/",
          "height": 34
        },
        "outputId": "5527a3e1-093d-4d26-8751-77b96cb2ff54"
      },
      "source": [
        "text[:100]"
      ],
      "execution_count": 4,
      "outputs": [
        {
          "output_type": "execute_result",
          "data": {
            "text/plain": [
              "'Chapter 1\\n\\n\\nHappy families are all alike; every unhappy family is unhappy in its own\\nway.\\n\\nEverythin'"
            ]
          },
          "metadata": {
            "tags": []
          },
          "execution_count": 4
        }
      ]
    },
    {
      "cell_type": "code",
      "metadata": {
        "id": "McRuMRg7ylN2",
        "colab_type": "code",
        "colab": {}
      },
      "source": [
        "chars = tuple(set(text))\n",
        "# keys are integers, values are chars\n",
        "int2char = dict(enumerate(chars))\n",
        "# keys are chars, values are integers\n",
        "char2int = {ch: ii for ii, ch in int2char.items()}\n",
        "encoded = np.array([char2int[ch] for ch in text])"
      ],
      "execution_count": 0,
      "outputs": []
    },
    {
      "cell_type": "code",
      "metadata": {
        "id": "jyRzn_7-GkcO",
        "colab_type": "code",
        "colab": {
          "base_uri": "https://localhost:8080/",
          "height": 118
        },
        "outputId": "36d1c439-7827-49ec-d916-68194c738a9a"
      },
      "source": [
        "encoded[:100]"
      ],
      "execution_count": 6,
      "outputs": [
        {
          "output_type": "execute_result",
          "data": {
            "text/plain": [
              "array([ 7, 11, 58, 13, 52, 42, 63, 57, 79, 68, 68, 68,  6, 58, 13, 13, 70,\n",
              "       57, 80, 58, 55, 50, 33, 50, 42, 34, 57, 58, 63, 42, 57, 58, 33, 33,\n",
              "       57, 58, 33, 50, 37, 42,  3, 57, 42, 36, 42, 63, 70, 57, 47, 48, 11,\n",
              "       58, 13, 13, 70, 57, 80, 58, 55, 50, 33, 70, 57, 50, 34, 57, 47, 48,\n",
              "       11, 58, 13, 13, 70, 57, 50, 48, 57, 50, 52, 34, 57, 56, 22, 48, 68,\n",
              "       22, 58, 70, 81, 68, 68,  9, 36, 42, 63, 70, 52, 11, 50, 48])"
            ]
          },
          "metadata": {
            "tags": []
          },
          "execution_count": 6
        }
      ]
    },
    {
      "cell_type": "code",
      "metadata": {
        "id": "gn-fEN8C2JVv",
        "colab_type": "code",
        "colab": {}
      },
      "source": [
        "# n_labels is specific length\n",
        "def one_hot_encode(arr, n_labels):\n",
        "  one_hot = np.zeros((arr.size, n_labels), dtype=np.float32)\n",
        "  one_hot[np.arange(one_hot.shape[0]), arr.flatten()] = 1\n",
        "  one_hot = one_hot.reshape((*arr.shape, n_labels))\n",
        "  return one_hot"
      ],
      "execution_count": 0,
      "outputs": []
    },
    {
      "cell_type": "code",
      "metadata": {
        "id": "c4cHCVyn3rJ6",
        "colab_type": "code",
        "colab": {
          "base_uri": "https://localhost:8080/",
          "height": 67
        },
        "outputId": "202330dc-3435-4868-a820-7eb06c7388b2"
      },
      "source": [
        "test_seq = np.array([[3, 5, 1]])\n",
        "one_hot = one_hot_encode(test_seq, 8)\n",
        "one_hot"
      ],
      "execution_count": 29,
      "outputs": [
        {
          "output_type": "execute_result",
          "data": {
            "text/plain": [
              "array([[[0., 0., 0., 1., 0., 0., 0., 0.],\n",
              "        [0., 0., 0., 0., 0., 1., 0., 0.],\n",
              "        [0., 1., 0., 0., 0., 0., 0., 0.]]], dtype=float32)"
            ]
          },
          "metadata": {
            "tags": []
          },
          "execution_count": 29
        }
      ]
    }
  ]
}