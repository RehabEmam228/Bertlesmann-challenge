{
  "nbformat": 4,
  "nbformat_minor": 0,
  "metadata": {
    "colab": {
      "name": "install_kaggle.ipynb",
      "provenance": [],
      "authorship_tag": "ABX9TyPJIhbYdBCAznHzgtuXMAFQ",
      "include_colab_link": true
    },
    "kernelspec": {
      "name": "python3",
      "display_name": "Python 3"
    },
    "accelerator": "GPU"
  },
  "cells": [
    {
      "cell_type": "markdown",
      "metadata": {
        "id": "view-in-github",
        "colab_type": "text"
      },
      "source": [
        "<a href=\"https://colab.research.google.com/github/RehabEmam228/Bertlesmann-challenge/blob/master/install_kaggle.ipynb\" target=\"_parent\"><img src=\"https://colab.research.google.com/assets/colab-badge.svg\" alt=\"Open In Colab\"/></a>"
      ]
    },
    {
      "cell_type": "markdown",
      "metadata": {
        "id": "SyMyfcFQ7PwR",
        "colab_type": "text"
      },
      "source": [
        "# Steps to download datasets from Kaggle"
      ]
    },
    {
      "cell_type": "code",
      "metadata": {
        "id": "ESV1wu-TqF6T",
        "colab_type": "code",
        "colab": {}
      },
      "source": [
        "!pip install kaggle"
      ],
      "execution_count": 0,
      "outputs": []
    },
    {
      "cell_type": "code",
      "metadata": {
        "id": "GsRrvWDkqmAq",
        "colab_type": "code",
        "colab": {}
      },
      "source": [
        "# You can use this to upload any file\n",
        "from google.colab import files \n",
        "files.upload()"
      ],
      "execution_count": 0,
      "outputs": []
    },
    {
      "cell_type": "code",
      "metadata": {
        "id": "a77xw4TCrNGf",
        "colab_type": "code",
        "colab": {}
      },
      "source": [
        "!mkdir -p ~/.kaggle\n",
        "!cp kaggle.json ~/.kaggle/\n",
        "!chmod 600 ~/.kaggle/kaggle.json"
      ],
      "execution_count": 0,
      "outputs": []
    },
    {
      "cell_type": "markdown",
      "metadata": {
        "id": "U9BoyGJq7oBI",
        "colab_type": "text"
      },
      "source": [
        "# Copy dataset link"
      ]
    },
    {
      "cell_type": "code",
      "metadata": {
        "id": "DP2wbmLmsXno",
        "colab_type": "code",
        "colab": {}
      },
      "source": [
        "!kaggle competitions download -c dogs-vs-cats"
      ],
      "execution_count": 0,
      "outputs": []
    },
    {
      "cell_type": "markdown",
      "metadata": {
        "id": "2CQGKrzk7tY7",
        "colab_type": "text"
      },
      "source": [
        "# To unzip content"
      ]
    },
    {
      "cell_type": "code",
      "metadata": {
        "id": "847cRhLGzOrf",
        "colab_type": "code",
        "colab": {}
      },
      "source": [
        "!unzip \\*.zip"
      ],
      "execution_count": 0,
      "outputs": []
    },
    {
      "cell_type": "markdown",
      "metadata": {
        "id": "cki9DID37KWp",
        "colab_type": "text"
      },
      "source": [
        "# To install helper module of udacity"
      ]
    },
    {
      "cell_type": "code",
      "metadata": {
        "id": "_dmSQhFL8FQp",
        "colab_type": "code",
        "colab": {}
      },
      "source": [
        "!wget -c https://raw.githubusercontent.com/udacity/deep-learning-v2-pytorch/master/intro-to-pytorch/helper.py"
      ],
      "execution_count": 0,
      "outputs": []
    },
    {
      "cell_type": "code",
      "metadata": {
        "id": "wCKfFtdr4Xvd",
        "colab_type": "code",
        "colab": {}
      },
      "source": [
        "import helper\n"
      ],
      "execution_count": 0,
      "outputs": []
    },
    {
      "cell_type": "markdown",
      "metadata": {
        "id": "83914elm7_a3",
        "colab_type": "text"
      },
      "source": [
        "# To mount your Google drive"
      ]
    },
    {
      "cell_type": "code",
      "metadata": {
        "id": "uTXEORBN5hCy",
        "colab_type": "code",
        "colab": {
          "base_uri": "https://localhost:8080/",
          "height": 121
        },
        "outputId": "6ecb6a38-77c3-412c-fb24-e43f0af06eab"
      },
      "source": [
        "from google.colab import drive\n",
        "drive.mount('/content/drive')"
      ],
      "execution_count": 27,
      "outputs": [
        {
          "output_type": "stream",
          "text": [
            "Go to this URL in a browser: https://accounts.google.com/o/oauth2/auth?client_id=947318989803-6bn6qk8qdgf4n4g3pfee6491hc0brc4i.apps.googleusercontent.com&redirect_uri=urn%3aietf%3awg%3aoauth%3a2.0%3aoob&response_type=code&scope=email%20https%3a%2f%2fwww.googleapis.com%2fauth%2fdocs.test%20https%3a%2f%2fwww.googleapis.com%2fauth%2fdrive%20https%3a%2f%2fwww.googleapis.com%2fauth%2fdrive.photos.readonly%20https%3a%2f%2fwww.googleapis.com%2fauth%2fpeopleapi.readonly\n",
            "\n",
            "Enter your authorization code:\n",
            "··········\n",
            "Mounted at /content/drive\n"
          ],
          "name": "stdout"
        }
      ]
    },
    {
      "cell_type": "markdown",
      "metadata": {
        "id": "W3xnOQnQ8IEW",
        "colab_type": "text"
      },
      "source": [
        "# Another way to unzip folders"
      ]
    },
    {
      "cell_type": "code",
      "metadata": {
        "id": "N8xFmpFXsmrw",
        "colab_type": "code",
        "colab": {}
      },
      "source": [
        "from zipfile import ZipFile\n",
        "file_name1 = 'train.zip'\n",
        "with ZipFile(file_name1, 'r') as zip:\n",
        "  zip.extractall()\n",
        "  print(\"Done\")"
      ],
      "execution_count": 0,
      "outputs": []
    }
  ]
}